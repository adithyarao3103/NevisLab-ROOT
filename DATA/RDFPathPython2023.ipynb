{
 "cells": [
  {
   "cell_type": "code",
   "execution_count": 1,
   "id": "f7a31199-4cba-489b-abba-5f3ea2aae319",
   "metadata": {},
   "outputs": [
    {
     "name": "stdout",
     "output_type": "stream",
     "text": [
      "Welcome to JupyROOT 6.28/02\n"
     ]
    }
   ],
   "source": [
    "import ROOT \n",
    "\n",
    "# Just for fun, turn on multi-threaded execution.\n",
    "# To turn off multi-threading, just comment out\n",
    "# the line. \n",
    "ROOT.ROOT.EnableImplicitMT\n",
    "\n",
    "# Read in the ntuple into the RDataFrame\n",
    "fileName = \"~seligman/root-class/experiment.root\"\n",
    "treeName = \"tree1\"\n",
    "dataframe = ROOT.RDataFrame(treeName, fileName)"
   ]
  },
  {
   "cell_type": "code",
   "execution_count": 2,
   "id": "e222ff71-2d6c-4e97-932b-8625e3a11263",
   "metadata": {},
   "outputs": [
    {
     "name": "stdout",
     "output_type": "stream",
     "text": [
      "+-----+-----------+----------+-------+------------+-----------+----------+-----------+\n",
      "| Row | chi2      | ebeam    | event | px         | py        | pz       | zv        | \n",
      "+-----+-----------+----------+-------+------------+-----------+----------+-----------+\n",
      "| 0   | 0.940583f | 150.140f | 0     | 14.3336f   | -4.02104f | 143.544f | 22.2641f  | \n",
      "+-----+-----------+----------+-------+------------+-----------+----------+-----------+\n",
      "| 1   | 1.02056f  | 149.786f | 1     | 0.0509291f | -1.37331f | 148.600f | 0.614076f | \n",
      "+-----+-----------+----------+-------+------------+-----------+----------+-----------+\n",
      "| 2   | 0.893446f | 150.162f | 2     | 4.00793f   | 3.88983f  | 145.688f | 16.5690f  | \n",
      "+-----+-----------+----------+-------+------------+-----------+----------+-----------+\n",
      "| 3   | 1.02172f  | 150.142f | 3     | 1.45592f   | 4.66344f  | 146.706f | 11.4663f  | \n",
      "+-----+-----------+----------+-------+------------+-----------+----------+-----------+\n",
      "| 4   | 0.854095f | 149.942f | 4     | -10.3420f  | 11.0689f  | 148.325f | 0.366510f | \n",
      "+-----+-----------+----------+-------+------------+-----------+----------+-----------+\n"
     ]
    }
   ],
   "source": [
    "dataframe.Display().Print()"
   ]
  },
  {
   "cell_type": "code",
   "execution_count": null,
   "id": "9bbe0fde-a6e0-4812-9a0c-5868549ded78",
   "metadata": {},
   "outputs": [],
   "source": []
  }
 ],
 "metadata": {
  "kernelspec": {
   "display_name": "Python 3",
   "language": "python",
   "name": "python3"
  },
  "language_info": {
   "codemirror_mode": {
    "name": "ipython",
    "version": 3
   },
   "file_extension": ".py",
   "mimetype": "text/x-python",
   "name": "python",
   "nbconvert_exporter": "python",
   "pygments_lexer": "ipython3",
   "version": "3.9.16"
  }
 },
 "nbformat": 4,
 "nbformat_minor": 5
}
