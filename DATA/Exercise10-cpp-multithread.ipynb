{
 "cells": [
  {
   "cell_type": "code",
   "execution_count": 1,
   "id": "580dc5f9-2d93-4998-8e50-40c8d9408037",
   "metadata": {
    "tags": []
   },
   "outputs": [
    {
     "name": "stdout",
     "output_type": "stream",
     "text": [
      "Pool size = 10\n"
     ]
    }
   ],
   "source": [
    "ROOT::EnableImplicitMT();\n",
    "auto poolSize = ROOT::GetThreadPoolSize();\n",
    "std::cout << \"Pool size = \" << poolSize << std::endl;"
   ]
  },
  {
   "cell_type": "code",
   "execution_count": null,
   "id": "e59e46a8-c3e1-44a0-afc8-6f93dd946860",
   "metadata": {
    "tags": []
   },
   "outputs": [],
   "source": [
    "%%time\n",
    "auto dataframe = ROOT::RDataFrame(\"tree1\",\"experiment.root\");\n",
    "auto analyzed = dataframe.Filter(\"chi2 < 1.5\").Define(\"pt\",\"sqrt(px*px + py*py)\")\n",
    "    .Define(\"theta\",\"atan2(pt,pz)\").Filter(\"theta < 0.15\")\n",
    "    .Define(\"emeas\",\"sqrt(pt*pt + pz*pz)\").Define(\"eloss\",\"ebeam - emeas\");\n",
    "analyzed.Snapshot(\"analyzed\",\"analysis.root\")"
   ]
  },
  {
   "cell_type": "code",
   "execution_count": null,
   "id": "839a7e9f-3156-45a9-a174-27505c6b98f8",
   "metadata": {},
   "outputs": [],
   "source": []
  }
 ],
 "metadata": {
  "kernelspec": {
   "display_name": "ROOT C++",
   "language": "c++",
   "name": "python3-jupyroot"
  },
  "language_info": {
   "codemirror_mode": "text/x-c++src",
   "file_extension": ".C",
   "mimetype": " text/x-c++src",
   "name": "c++"
  }
 },
 "nbformat": 4,
 "nbformat_minor": 5
}
