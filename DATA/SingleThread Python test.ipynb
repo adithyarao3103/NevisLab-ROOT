{
 "cells": [
  {
   "cell_type": "code",
   "execution_count": 1,
   "id": "dc73e003-f81d-4084-986e-5e6c092de0eb",
   "metadata": {
    "tags": []
   },
   "outputs": [
    {
     "name": "stdout",
     "output_type": "stream",
     "text": [
      "Welcome to JupyROOT 6.28/02\n"
     ]
    }
   ],
   "source": [
    "import ROOT"
   ]
  },
  {
   "cell_type": "code",
   "execution_count": 2,
   "id": "7352d95c-6b5d-4769-8fa0-af87717e3d1a",
   "metadata": {
    "tags": []
   },
   "outputs": [
    {
     "name": "stdout",
     "output_type": "stream",
     "text": [
      "Pool size = 0\n"
     ]
    },
    {
     "name": "stderr",
     "output_type": "stream",
     "text": [
      "Warning in <ROOT_TImplicitMT_DisableImplicitMT>: Implicit multi-threading is already disabled\n"
     ]
    }
   ],
   "source": [
    "ROOT.ROOT.DisableImplicitMT()\n",
    "poolSize = ROOT.GetThreadPoolSize()\n",
    "print (\"Pool size =\",poolSize)\n",
    "\n",
    "#chain = ROOT.TChain(\"tree1\")\n",
    "#for i in range(1000):\n",
    "#    chain.Add(\"experiment.root\")\n",
    "canvas = ROOT.TCanvas()"
   ]
  },
  {
   "cell_type": "code",
   "execution_count": 3,
   "id": "df1d19e2-517c-49d8-8b2c-1cbf02aa7136",
   "metadata": {},
   "outputs": [
    {
     "name": "stdout",
     "output_type": "stream",
     "text": [
      "CPU times: user 3.43 s, sys: 139 ms, total: 3.57 s\n",
      "Wall time: 3.81 s\n"
     ]
    }
   ],
   "source": [
    "%%time\n",
    "#dataframe = ROOT.RDataFrame(chain)\n",
    "dataframe = ROOT.RDataFrame(\"tree1\",\"experiment.root\")\n",
    "pzcut = dataframe.Filter(\"pz < 145\").Histo1D(\"pz\")\n",
    "pzcut.Draw()"
   ]
  },
  {
   "cell_type": "code",
   "execution_count": 4,
   "id": "a2a49922-fd37-46a5-b604-f66abc7422b8",
   "metadata": {},
   "outputs": [
    {
     "data": {
      "image/png": "[encoded data removed]",
      "text/plain": [
       "<IPython.core.display.Image object>"
      ]
     },
     "metadata": {},
     "output_type": "display_data"
    }
   ],
   "source": [
    "canvas.Draw()"
   ]
  }
 ],
 "metadata": {
  "kernelspec": {
   "display_name": "Python 3",
   "language": "python",
   "name": "python3"
  },
  "language_info": {
   "codemirror_mode": {
    "name": "ipython",
    "version": 3
   },
   "file_extension": ".py",
   "mimetype": "text/x-python",
   "name": "python",
   "nbconvert_exporter": "python",
   "pygments_lexer": "ipython3",
   "version": "3.9.16"
  }
 },
 "nbformat": 4,
 "nbformat_minor": 5
}
