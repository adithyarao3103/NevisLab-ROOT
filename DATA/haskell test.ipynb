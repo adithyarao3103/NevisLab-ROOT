{
 "cells": [
  {
   "cell_type": "code",
   "execution_count": 1,
   "id": "92c1545d-86c1-463a-81b6-a9cd84dd9e30",
   "metadata": {},
   "outputs": [
    {
     "data": {
      "text/plain": [
       "hello world"
      ]
     },
     "metadata": {},
     "output_type": "display_data"
    }
   ],
   "source": [
    "putStrLn \"hello world\""
   ]
  },
  {
   "cell_type": "code",
   "execution_count": 2,
   "id": "77a061df-a8a8-4bdc-ad36-ea573207ae96",
   "metadata": {},
   "outputs": [],
   "source": [
    "import Data.Array\n",
    "\n",
    "main = do\n",
    "    let a = array (0, 4) [(i, 0) | i <- [0..4]]\n",
    "    putStrLn $ \"emp: \" ++ show a\n",
    "\n",
    "    let a' = a // [(4,100)]\n",
    "    putStrLn $ \"set: \" ++ show a'\n",
    "    putStrLn $ \"get: \" ++ show (a' ! 4)\n",
    "    putStrLn $ \"len: \" ++ show ((+1) . snd . bounds $ a')\n",
    "\n",
    "    let b = array (0, 4) [(i, i+1) | i <- [0..4]]\n",
    "    putStrLn $ \"dcl: \" ++ show b\n",
    "\n",
    "    let twoD = array ((0,0), (1, 2)) [((i, j), i + j) | i <- [0..1], j <- [0..2]]\n",
    "    putStrLn $ \"2d: \" ++ show twoD"
   ]
  },
  {
   "cell_type": "code",
   "execution_count": 3,
   "id": "342f2cd1-bed2-4fe6-b409-11cda195561b",
   "metadata": {},
   "outputs": [
    {
     "data": {
      "text/plain": [
       "emp: array (0,4) [(0,0),(1,0),(2,0),(3,0),(4,0)]\n",
       "set: array (0,4) [(0,0),(1,0),(2,0),(3,0),(4,100)]\n",
       "get: 100\n",
       "len: 5\n",
       "dcl: array (0,4) [(0,1),(1,2),(2,3),(3,4),(4,5)]\n",
       "2d: array ((0,0),(1,2)) [((0,0),0),((0,1),1),((0,2),2),((1,0),1),((1,1),2),((1,2),3)]"
      ]
     },
     "metadata": {},
     "output_type": "display_data"
    }
   ],
   "source": [
    "main"
   ]
  },
  {
   "cell_type": "code",
   "execution_count": 4,
   "id": "3c369a75-8468-4c74-aee7-3a350c083ebc",
   "metadata": {},
   "outputs": [],
   "source": [
    "import Data.List\n",
    "\n",
    "main = do\n",
    "    let strs = \"cab\"\n",
    "    putStrLn $ \"Strings: \" ++ sort strs\n",
    "\n",
    "    let ints = [7, 2, 4]\n",
    "    putStrLn $ \"Ints: \" ++ show (sort ints)\n",
    "\n",
    "    let s = ints == sort ints\n",
    "    putStrLn $ \"Sorted: \" ++ show s"
   ]
  },
  {
   "cell_type": "code",
   "execution_count": 5,
   "id": "b684ac5e-b971-4fae-947c-7888038e0ca2",
   "metadata": {},
   "outputs": [
    {
     "data": {
      "text/plain": [
       "Strings: abc\n",
       "Ints: [2,4,7]\n",
       "Sorted: False"
      ]
     },
     "metadata": {},
     "output_type": "display_data"
    }
   ],
   "source": [
    "main"
   ]
  },
  {
   "cell_type": "code",
   "execution_count": 6,
   "id": "e86cf6f6-81a7-4da6-bdef-1dae556a4fdc",
   "metadata": {},
   "outputs": [
    {
     "data": {
      "text/html": [
       "<style>/* Styles used for the Hoogle display in the pager */\n",
       ".hoogle-doc {\n",
       "display: block;\n",
       "padding-bottom: 1.3em;\n",
       "padding-left: 0.4em;\n",
       "}\n",
       ".hoogle-code {\n",
       "display: block;\n",
       "font-family: monospace;\n",
       "white-space: pre;\n",
       "}\n",
       ".hoogle-text {\n",
       "display: block;\n",
       "}\n",
       ".hoogle-name {\n",
       "color: green;\n",
       "font-weight: bold;\n",
       "}\n",
       ".hoogle-head {\n",
       "font-weight: bold;\n",
       "}\n",
       ".hoogle-sub {\n",
       "display: block;\n",
       "margin-left: 0.4em;\n",
       "}\n",
       ".hoogle-package {\n",
       "font-weight: bold;\n",
       "font-style: italic;\n",
       "}\n",
       ".hoogle-module {\n",
       "font-weight: bold;\n",
       "}\n",
       ".hoogle-class {\n",
       "font-weight: bold;\n",
       "}\n",
       ".get-type {\n",
       "color: green;\n",
       "font-weight: bold;\n",
       "font-family: monospace;\n",
       "display: block;\n",
       "white-space: pre-wrap;\n",
       "}\n",
       ".show-type {\n",
       "color: green;\n",
       "font-weight: bold;\n",
       "font-family: monospace;\n",
       "margin-left: 1em;\n",
       "}\n",
       ".mono {\n",
       "font-family: monospace;\n",
       "display: block;\n",
       "}\n",
       ".err-msg {\n",
       "color: red;\n",
       "font-style: italic;\n",
       "font-family: monospace;\n",
       "white-space: pre;\n",
       "display: block;\n",
       "}\n",
       "#unshowable {\n",
       "color: red;\n",
       "font-weight: bold;\n",
       "}\n",
       ".err-msg.in.collapse {\n",
       "padding-top: 0.7em;\n",
       "}\n",
       ".highlight-code {\n",
       "white-space: pre;\n",
       "font-family: monospace;\n",
       "}\n",
       ".suggestion-warning { \n",
       "font-weight: bold;\n",
       "color: rgb(200, 130, 0);\n",
       "}\n",
       ".suggestion-error { \n",
       "font-weight: bold;\n",
       "color: red;\n",
       "}\n",
       ".suggestion-name {\n",
       "font-weight: bold;\n",
       "}\n",
       "</style><div class=\"suggestion-name\" style=\"clear:both;\">Use even</div><div class=\"suggestion-row\" style=\"float: left;\"><div class=\"suggestion-warning\">Found:</div><div class=\"highlight-code\" id=\"haskell\">7 `mod` 2 == 0</div></div><div class=\"suggestion-row\" style=\"float: left;\"><div class=\"suggestion-warning\">Why Not:</div><div class=\"highlight-code\" id=\"haskell\">even 7</div></div><div class=\"suggestion-name\" style=\"clear:both;\">Use when</div><div class=\"suggestion-row\" style=\"float: left;\"><div class=\"suggestion-warning\">Found:</div><div class=\"highlight-code\" id=\"haskell\">if 8 `mod` 4 == 0 then\n",
       "    putStrLn \"8 is divisible by 4\"\n",
       "else\n",
       "    return ()</div></div><div class=\"suggestion-row\" style=\"float: left;\"><div class=\"suggestion-warning\">Why Not:</div><div class=\"highlight-code\" id=\"haskell\">Control.Monad.when (8 `mod` 4 == 0)\n",
       "  $ putStrLn \"8 is divisible by 4\"</div></div>"
      ],
      "text/plain": [
       "Line 2: Use even\n",
       "Found:\n",
       "7 `mod` 2 == 0\n",
       "Why not:\n",
       "even 7Line 6: Use when\n",
       "Found:\n",
       "if 8 `mod` 4 == 0 then\n",
       "    putStrLn \"8 is divisible by 4\"\n",
       "else\n",
       "    return ()\n",
       "Why not:\n",
       "Control.Monad.when (8 `mod` 4 == 0)\n",
       "  $ putStrLn \"8 is divisible by 4\""
      ]
     },
     "metadata": {},
     "output_type": "display_data"
    }
   ],
   "source": [
    "main = do\n",
    "    if 7 `mod` 2 == 0\n",
    "        then putStrLn \"7 is even\"\n",
    "        else putStrLn \"7 is odd\"\n",
    "\n",
    "    if 8 `mod` 4 == 0\n",
    "        then putStrLn \"8 is divisible by 4\"\n",
    "        else return ()\n",
    "\n",
    "    let num = 9\n",
    "    putStrLn $\n",
    "        if num < 0\n",
    "            then show num ++ \" is negative\"\n",
    "            else if num < 10\n",
    "                then show num ++ \" has 1 digit\"\n",
    "                else show num ++ \" has multiple digits\"\n",
    "\n"
   ]
  },
  {
   "cell_type": "code",
   "execution_count": 7,
   "id": "63cd1277-4ab2-4cc0-8f2e-75ce18dc092b",
   "metadata": {},
   "outputs": [
    {
     "data": {
      "text/plain": [
       "7 is odd\n",
       "8 is divisible by 4\n",
       "9 has 1 digit"
      ]
     },
     "metadata": {},
     "output_type": "display_data"
    }
   ],
   "source": [
    "main"
   ]
  },
  {
   "cell_type": "code",
   "execution_count": null,
   "id": "1f5d0b8f-07fa-42b9-b33e-e01b54019247",
   "metadata": {},
   "outputs": [],
   "source": []
  }
 ],
 "metadata": {
  "kernelspec": {
   "display_name": "Haskell",
   "language": "haskell",
   "name": "haskell"
  },
  "language_info": {
   "codemirror_mode": "ihaskell",
   "file_extension": ".hs",
   "mimetype": "text/x-haskell",
   "name": "haskell",
   "pygments_lexer": "Haskell",
   "version": "9.2.5"
  }
 },
 "nbformat": 4,
 "nbformat_minor": 5
}
