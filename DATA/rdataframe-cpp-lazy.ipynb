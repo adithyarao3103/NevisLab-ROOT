{
 "cells": [
  {
   "cell_type": "code",
   "execution_count": 1,
   "id": "a2a31743-e003-4eb7-ae81-0c7a02e31e43",
   "metadata": {
    "tags": []
   },
   "outputs": [
    {
     "name": "stdout",
     "output_type": "stream",
     "text": [
      "Time: 1.084756851196289 seconds.\n",
      "\n"
     ]
    }
   ],
   "source": [
    "%%time\n",
    "ROOT::RDataFrame dataframe(\"tree1\",\"experiment.root\");"
   ]
  },
  {
   "cell_type": "code",
   "execution_count": 2,
   "id": "1fc2533f-fa5d-4b56-91e2-32e3e19d6fd8",
   "metadata": {
    "tags": []
   },
   "outputs": [
    {
     "name": "stdout",
     "output_type": "stream",
     "text": [
      "Time: 0.20169568061828613 seconds.\n",
      "\n"
     ]
    }
   ],
   "source": [
    "%%time\n",
    "TCanvas canvas;"
   ]
  },
  {
   "cell_type": "code",
   "execution_count": 3,
   "id": "984f75be-ae40-4d84-82bd-f22e30ef56fd",
   "metadata": {
    "tags": []
   },
   "outputs": [
    {
     "name": "stdout",
     "output_type": "stream",
     "text": [
      "Time: 0.7453773021697998 seconds.\n",
      "\n"
     ]
    }
   ],
   "source": [
    "%%time\n",
    "auto ptcuthist = dataframe.Define(\"pt\",\"sqrt(px*px+py*py)\") \n",
    "                     .Filter(\"pt<10\") \n",
    "                     .Histo1D(\"pt\");"
   ]
  },
  {
   "cell_type": "code",
   "execution_count": 4,
   "id": "541e501c-21b0-4f47-98fd-7fc047797901",
   "metadata": {
    "tags": []
   },
   "outputs": [
    {
     "name": "stdout",
     "output_type": "stream",
     "text": [
      "Time: 2.8344414234161377 seconds.\n",
      "\n"
     ]
    }
   ],
   "source": [
    "%%time\n",
    "ptcuthist->Draw();"
   ]
  },
  {
   "cell_type": "code",
   "execution_count": 5,
   "id": "eeebafa7-bc8e-4946-97fa-f0f0388fdfb5",
   "metadata": {
    "tags": []
   },
   "outputs": [
    {
     "data": {
      "image/png": "[encoded data removed]",
      "text/plain": [
       "<IPython.core.display.Image object>"
      ]
     },
     "metadata": {},
     "output_type": "display_data"
    },
    {
     "name": "stdout",
     "output_type": "stream",
     "text": [
      "Time: 0.369753360748291 seconds.\n",
      "\n"
     ]
    }
   ],
   "source": [
    "%%time\n",
    "canvas.Draw();"
   ]
  },
  {
   "cell_type": "code",
   "execution_count": null,
   "id": "5cde3d16-af5f-4ace-a2d0-ed3993e32e9d",
   "metadata": {},
   "outputs": [],
   "source": []
  }
 ],
 "metadata": {
  "kernelspec": {
   "display_name": "ROOT C++",
   "language": "c++",
   "name": "python3-jupyroot"
  },
  "language_info": {
   "codemirror_mode": "text/x-c++src",
   "file_extension": ".C",
   "mimetype": " text/x-c++src",
   "name": "c++"
  }
 },
 "nbformat": 4,
 "nbformat_minor": 5
}
