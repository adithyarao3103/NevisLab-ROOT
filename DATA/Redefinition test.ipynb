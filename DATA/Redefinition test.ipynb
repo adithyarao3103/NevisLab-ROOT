{
 "cells": [
  {
   "cell_type": "code",
   "execution_count": 3,
   "metadata": {},
   "outputs": [
    {
     "data": {
      "image/png": "[encoded data removed]",
      "text/plain": [
       "<IPython.core.display.Image object>"
      ]
     },
     "metadata": {},
     "output_type": "display_data"
    },
    {
     "name": "stderr",
     "output_type": "stream",
     "text": [
      "Warning in <TROOT::Append>: Replacing existing TH1: example (Potential memory leak).\n"
     ]
    }
   ],
   "source": [
    "TH1D example(\"example\",\"example histogram\",100,-3,3);\n",
    "      example.FillRandom(\"gaus\",10000);\n",
    "      example.Draw();\n",
    "c1->Draw();"
   ]
  },
  {
   "cell_type": "code",
   "execution_count": 9,
   "metadata": {},
   "outputs": [
    {
     "name": "stderr",
     "output_type": "stream",
     "text": [
      "input_line_125:3:8: error: redefinition of 'a' with a different type: 'double' vs 'int'\n",
      "double a = 2;\n",
      "       ^\n",
      "input_line_125:2:6: note: previous definition is here\n",
      " int a = 1;\n",
      "     ^\n"
     ]
    }
   ],
   "source": [
    "int a = 1;\n",
    "double a = 2;"
   ]
  },
  {
   "cell_type": "code",
   "execution_count": 5,
   "metadata": {},
   "outputs": [],
   "source": [
    "double a = 2;"
   ]
  },
  {
   "cell_type": "code",
   "execution_count": 6,
   "metadata": {},
   "outputs": [
    {
     "name": "stdout",
     "output_type": "stream",
     "text": [
      "(double) 2.0000000\n"
     ]
    }
   ],
   "source": [
    "a"
   ]
  },
  {
   "cell_type": "code",
   "execution_count": 7,
   "metadata": {},
   "outputs": [
    {
     "name": "stderr",
     "output_type": "stream",
     "text": [
      "Warning in <TROOT::Append>: Replacing existing TH1: example (Potential memory leak).\n"
     ]
    }
   ],
   "source": [
    "TH1D example(\"example\",\"example histogram\",100,-3,3);"
   ]
  },
  {
   "cell_type": "code",
   "execution_count": 8,
   "metadata": {},
   "outputs": [
    {
     "name": "stderr",
     "output_type": "stream",
     "text": [
      "input_line_124:3:6: error: redefinition of 'example'\n",
      "TH1D example(\"example2\",\"another example histogram\",100,-3,3);\n",
      "     ^\n",
      "input_line_124:2:7: note: previous definition is here\n",
      " TH1D example(\"example\",\"example histogram\",100,-3,3);\n",
      "      ^\n"
     ]
    }
   ],
   "source": [
    "TH1D example(\"example\",\"example histogram\",100,-3,3);\n",
    "TH1D example(\"example2\",\"another example histogram\",100,-3,3);\n"
   ]
  },
  {
   "cell_type": "code",
   "execution_count": null,
   "metadata": {},
   "outputs": [],
   "source": []
  }
 ],
 "metadata": {
  "kernelspec": {
   "display_name": "ROOT C++",
   "language": "c++",
   "name": "root"
  },
  "language_info": {
   "codemirror_mode": "text/x-c++src",
   "file_extension": ".C",
   "mimetype": " text/x-c++src",
   "name": "c++"
  }
 },
 "nbformat": 4,
 "nbformat_minor": 4
}
