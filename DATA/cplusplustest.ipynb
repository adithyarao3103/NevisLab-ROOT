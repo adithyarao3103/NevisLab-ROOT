{
 "cells": [
  {
   "cell_type": "code",
   "execution_count": 1,
   "metadata": {
    "collapsed": false,
    "deletable": true,
    "editable": true
   },
   "outputs": [
    {
     "name": "stdout",
     "output_type": "stream",
     "text": [
      "(int) 5\n"
     ]
    }
   ],
   "source": [
    "2+3"
   ]
  },
  {
   "cell_type": "code",
   "execution_count": 2,
   "metadata": {
    "collapsed": true,
    "deletable": true,
    "editable": true
   },
   "outputs": [],
   "source": [
    "%load AnalyzeReader.C\n"
   ]
  },
  {
   "cell_type": "code",
   "execution_count": 3,
   "metadata": {
    "collapsed": true
   },
   "outputs": [],
   "source": [
    "// A replacement for Analyze.h and Analyze.C that uses TTreeReader\n",
    "// instead of a TSelector created by MakeSelector.\n",
    "\n",
    "// To compare using the TTreeReader approach versus the TSelector\n",
    "// approach, I've implemented Exercise 3 of my ROOT tutorial.\n",
    "\n",
    "#include \"TFile.h\"\n",
    "#include \"TH1D.h\"\n",
    "#include \"TCanvas.h\"\n",
    "#include \"TMath.h\"\n",
    "#include \"TTreeReader.h\"\n",
    "#include \"TTreeReaderValue.h\"\n",
    "\n",
    "void treeReader() {\n",
    "  // Open the file containing the tree.\n",
    "  TFile* myFile = TFile::Open(\"experiment.root\");\n",
    "\n",
    "  // Create a TTreeReader for the tree \"tree1\" in file \"myFile\".\n",
    "  TTreeReader myReader(\"tree1\", myFile);\n",
    "\n",
    "  // We have to define TTreeReaderValue<T> for each branch in the\n",
    "  // tree, where \"T\" is the type of the object in the branch.\n",
    "\n",
    "  // Because I'm a lazy bum, I got the following lines by using\n",
    "  // tree1->MakeSelector(\"Analyze\"), then copied the definitions from\n",
    "  // Analyze.h. I did a global search-and-replace to change the\n",
    "  // auto-generated \"fReader\" to the name of the reader I defined\n",
    "  // above.\n",
    "\n",
    "  // Strictly speaking, I only have to define TTreeReaderValues for\n",
    "  // those n-tuple variables that I actually use. Again, I'm being\n",
    "  // lazy (though if I omitted the branches I don't need for this\n",
    "  // particular task, it would run faster).\n",
    "\n",
    "  TTreeReaderValue<Int_t> event = {myReader, \"event\"};\n",
    "  TTreeReaderValue<Float_t> ebeam = {myReader, \"ebeam\"};\n",
    "  TTreeReaderValue<Float_t> px = {myReader, \"px\"};\n",
    "  TTreeReaderValue<Float_t> py = {myReader, \"py\"};\n",
    "  TTreeReaderValue<Float_t> pz = {myReader, \"pz\"};\n",
    "  TTreeReaderValue<Float_t> zv = {myReader, \"zv\"};\n",
    "  TTreeReaderValue<Float_t> chi2 = {myReader, \"chi2\"};\n",
    "\n",
    "  //******** Initialization section *********\n",
    "\n",
    "  // Create a histogram for the values we read.\n",
    "  TH1D* ptHist = new TH1D(\"pt\",\"Histogram of pt\",100,0,35);\n",
    "  ptHist->GetXaxis()->SetTitle(\"pt [GeV]\");\n",
    "  ptHist->GetYaxis()->SetTitle(\"number of events\");\n",
    "\n",
    "  // Loop over all entries of the TTree or TChain.\n",
    "  while (myReader.Next()) {\n",
    "    //******** Loop section *********\n",
    "    Double_t pt = TMath::Sqrt((*px)*(*px) + (*py)*(*py));\n",
    "    ptHist->Fill(pt);\n",
    "  }\n",
    "\n",
    "  //******** Wrap-up section *********\n",
    "\n",
    "  // I only need to explicitly draw the TCanvas if I'm running this in\n",
    "  // a ROOT C++ notebook.\n",
    "\n",
    "  TCanvas* ptCanvas = new TCanvas(\"c1\", \"pt canvas\",800,600);\n",
    "  ptHist->Draw();\n",
    "  ptCanvas->Draw();\n",
    "}\n"
   ]
  },
  {
   "cell_type": "code",
   "execution_count": 4,
   "metadata": {
    "collapsed": false
   },
   "outputs": [
    {
     "data": {
      "image/png": "[encoded data removed]",
      "text/plain": [
       "<IPython.core.display.Image object>"
      ]
     },
     "metadata": {},
     "output_type": "display_data"
    }
   ],
   "source": [
    "treeReader()"
   ]
  },
  {
   "cell_type": "code",
   "execution_count": null,
   "metadata": {
    "collapsed": true
   },
   "outputs": [],
   "source": []
  }
 ],
 "metadata": {
  "kernelspec": {
   "display_name": "ROOT C++",
   "language": "c++",
   "name": "root"
  },
  "language_info": {
   "codemirror_mode": "text/x-c++src",
   "file_extension": ".C",
   "mimetype": " text/x-c++src",
   "name": "c++"
  }
 },
 "nbformat": 4,
 "nbformat_minor": 2
}
