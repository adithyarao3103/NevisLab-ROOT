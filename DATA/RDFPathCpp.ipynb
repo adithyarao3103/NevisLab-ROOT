{
 "cells": [
  {
   "cell_type": "code",
   "execution_count": 1,
   "id": "49f10b6b-6172-4699-8f60-03d44a7a191c",
   "metadata": {},
   "outputs": [],
   "source": [
    "// Read in the ntuple into the RDataFrame\n",
    "auto fileName = \"~seligman/root-class/experiment.root\";\n",
    "auto treeName = \"tree1\";\n",
    "auto dataframe = ROOT::RDataFrame(treeName, fileName);"
   ]
  },
  {
   "cell_type": "code",
   "execution_count": 2,
   "id": "0340c4ac-f584-48e4-a858-a330146857a0",
   "metadata": {},
   "outputs": [],
   "source": [
    "// Create a couple of histograms, before and after a pz cut.\n",
    "auto pzhist = dataframe.Histo1D({\"pz\",\"pz before cut\",100,130,170},\"pz\");\n",
    "auto pzcuthist = dataframe.Filter(\"pz < 145\").Histo1D({\"pzcut\",\"pz after cut\",100,130,170},\"pz\");"
   ]
  },
  {
   "cell_type": "code",
   "execution_count": 3,
   "id": "e534ecc0-c219-484e-86f2-5b29577dc5f6",
   "metadata": {},
   "outputs": [],
   "source": [
    "// Create a new column, pt, and look at chi2 before and after a pt cut.\n",
    "auto ptDefined = dataframe.Define(\"pt\",\"sqrt(px*px + py*py)\");\n",
    "auto chi2hist=ptDefined.Histo1D({\"chi2\",\"chi2 before cut\",100,0,20},\"chi2\");\n",
    "auto chi2cut=ptDefined.Filter(\"pt < 10\");\n",
    "auto chi2cutcount=chi2cut.Count();\n",
    "auto chi2cuthist=chi2cut.Histo1D({\"chi2cut\",\"chi2 after cut\",100,0,20},\"chi2\");"
   ]
  },
  {
   "cell_type": "code",
   "execution_count": null,
   "id": "a99475ae-6537-4167-aa95-72b801f271dd",
   "metadata": {
    "tags": []
   },
   "outputs": [],
   "source": [
    "auto canvasa = TCanvas();\n",
    "pzhist->Draw();\n",
    "canvasa.Draw();\n",
    "auto canvasb = TCanvas();\n",
    "pzcuthist->Draw();\n",
    "canvasb.Draw();\n",
    "auto canvas1 = TCanvas();\n",
    "chi2hist->Draw(\"e\");\n",
    "canvas1.Draw();\n",
    "auto canvas2 = TCanvas();\n",
    "chi2cuthist->Draw(\"e\");\n",
    "canvas2.Draw();"
   ]
  },
  {
   "cell_type": "code",
   "execution_count": null,
   "id": "1bea5c73-175c-4c62-8a7a-805ccb1d2085",
   "metadata": {},
   "outputs": [],
   "source": [
    "ROOT::RDF::SaveGraph(dataframe, \"./dataframe.dot\");"
   ]
  },
  {
   "cell_type": "code",
   "execution_count": null,
   "id": "7d340bc1-58e5-47b6-b89a-5c8c988e42af",
   "metadata": {},
   "outputs": [],
   "source": []
  }
 ],
 "metadata": {
  "kernelspec": {
   "display_name": "ROOT C++",
   "language": "c++",
   "name": "python3-jupyroot"
  },
  "language_info": {
   "codemirror_mode": "text/x-c++src",
   "file_extension": ".C",
   "mimetype": " text/x-c++src",
   "name": "c++"
  }
 },
 "nbformat": 4,
 "nbformat_minor": 5
}
