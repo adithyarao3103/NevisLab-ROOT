{
 "cells": [
  {
   "cell_type": "code",
   "execution_count": 1,
   "id": "b4495a06-1aa9-4627-b173-26c431651965",
   "metadata": {
    "tags": []
   },
   "outputs": [
    {
     "name": "stdout",
     "output_type": "stream",
     "text": [
      "Welcome to JupyROOT 6.28/02\n"
     ]
    }
   ],
   "source": [
    "import ROOT, math\n",
    "dataframe = ROOT.RDataFrame(\"tree1\",\"experiment.root\")"
   ]
  },
  {
   "cell_type": "code",
   "execution_count": 2,
   "id": "c867727b-f9fd-4a3c-897c-7b28d169d09d",
   "metadata": {
    "tags": []
   },
   "outputs": [],
   "source": [
    "@ROOT.Numba.Declare([\"float\", \"float\"], \"float\")\n",
    "def pt_func(x,y):\n",
    "    return math.sqrt(x*x + y*y)"
   ]
  },
  {
   "cell_type": "code",
   "execution_count": 3,
   "id": "c95caa1c-a6a8-4816-bc79-ca5ebe16ec41",
   "metadata": {
    "tags": []
   },
   "outputs": [],
   "source": [
    "pt_dataframe = dataframe.Define(\"pt\",\"Numba::pt_func(px,py)\")"
   ]
  },
  {
   "cell_type": "code",
   "execution_count": 4,
   "id": "7b2c4a8d-5ae2-491b-a06d-2c29679df3cb",
   "metadata": {},
   "outputs": [],
   "source": [
    "pthist=pt_dataframe.Histo1D(\"pt\")"
   ]
  },
  {
   "cell_type": "code",
   "execution_count": 5,
   "id": "1352e95a-4acd-4f21-97ed-288847f901fe",
   "metadata": {
    "tags": []
   },
   "outputs": [],
   "source": [
    "canvas = ROOT.TCanvas()"
   ]
  },
  {
   "cell_type": "code",
   "execution_count": 6,
   "id": "f198206d-056d-41b9-b57e-2e721c98a88f",
   "metadata": {
    "tags": []
   },
   "outputs": [],
   "source": [
    "pthist.Draw()"
   ]
  },
  {
   "cell_type": "code",
   "execution_count": null,
   "id": "6f606181-e450-4c00-8f12-957e623ad9bb",
   "metadata": {
    "tags": []
   },
   "outputs": [],
   "source": [
    "canvas.Draw()"
   ]
  },
  {
   "cell_type": "code",
   "execution_count": null,
   "id": "98862708-1172-4d12-b373-9cf2590afe1a",
   "metadata": {},
   "outputs": [],
   "source": []
  }
 ],
 "metadata": {
  "kernelspec": {
   "display_name": "Python 3",
   "language": "python",
   "name": "python3"
  },
  "language_info": {
   "codemirror_mode": {
    "name": "ipython",
    "version": 3
   },
   "file_extension": ".py",
   "mimetype": "text/x-python",
   "name": "python",
   "nbconvert_exporter": "python",
   "pygments_lexer": "ipython3",
   "version": "3.9.16"
  }
 },
 "nbformat": 4,
 "nbformat_minor": 5
}
