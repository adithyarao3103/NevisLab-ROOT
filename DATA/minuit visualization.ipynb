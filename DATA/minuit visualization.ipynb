{
 "cells": [
  {
   "cell_type": "code",
   "execution_count": 1,
   "id": "e312d07c-d5b2-4783-976a-164c7219ca84",
   "metadata": {},
   "outputs": [],
   "source": [
    "from iminuit import cost\n",
    "from iminuit import Minuit\n",
    "from numba_stats import norm, t, truncexpon\n",
    "import numpy as np\n",
    "from matplotlib import pyplot as plt"
   ]
  },
  {
   "cell_type": "code",
   "execution_count": 2,
   "id": "1bcfeecd-412a-4bbc-b4c4-252b05cc6a50",
   "metadata": {},
   "outputs": [
    {
     "data": {
      "application/vnd.jupyter.widget-view+json": {
       "model_id": "3da0ac81f04d4372a7cb9acf8172aa8d",
       "version_major": 2,
       "version_minor": 0
      },
      "text/plain": [
       "HBox(children=(Output(), VBox(children=(HBox(children=(Button(description='Fit', style=ButtonStyle()), ToggleB…"
      ]
     },
     "execution_count": 2,
     "metadata": {},
     "output_type": "execute_result"
    }
   ],
   "source": [
    "rng = np.random.default_rng(1)\n",
    "\n",
    "s = rng.normal(0.5, 0.1, size=1000)\n",
    "b = rng.exponential(1, size=1000)\n",
    "b = b[b < 1]\n",
    "x = np.append(s, b)\n",
    "\n",
    "truth = len(s) / len(x), 0.5, 0.1, 1.0\n",
    "\n",
    "n, xe = np.histogram(x, bins=50)\n",
    "\n",
    "def model(x, f, mu, sigma, slope):\n",
    "    return f * norm.pdf(x, mu, sigma) + (1 - f) * truncexpon.pdf(x, 0, 1, 0, slope)\n",
    "\n",
    "c = cost.UnbinnedNLL(x, model)\n",
    "m = Minuit(c, *truth)\n",
    "m.limits[\"f\", \"mu\"] = (0, 1)\n",
    "m.limits[\"sigma\", \"slope\"] = (0, None)\n",
    "\n",
    "m.interactive(model_points=1000)\n",
    "\n"
   ]
  },
  {
   "cell_type": "code",
   "execution_count": null,
   "id": "1f3d2da6-4d6c-476c-b812-d2e58237426b",
   "metadata": {},
   "outputs": [],
   "source": []
  }
 ],
 "metadata": {
  "kernelspec": {
   "display_name": "Python 3",
   "language": "python",
   "name": "python3"
  },
  "language_info": {
   "codemirror_mode": {
    "name": "ipython",
    "version": 3
   },
   "file_extension": ".py",
   "mimetype": "text/x-python",
   "name": "python",
   "nbconvert_exporter": "python",
   "pygments_lexer": "ipython3",
   "version": "3.9.16"
  }
 },
 "nbformat": 4,
 "nbformat_minor": 5
}
