{
 "cells": [
  {
   "cell_type": "code",
   "execution_count": 1,
   "id": "517c0680-fb0f-45a3-807b-91f0ab293744",
   "metadata": {},
   "outputs": [
    {
     "name": "stdout",
     "output_type": "stream",
     "text": [
      "Welcome to JupyROOT 6.28/02\n"
     ]
    }
   ],
   "source": [
    "import ROOT"
   ]
  },
  {
   "cell_type": "code",
   "execution_count": 2,
   "id": "e69d88a5-57dd-4c6c-a230-d2f8b26d0f5b",
   "metadata": {},
   "outputs": [
    {
     "name": "stdout",
     "output_type": "stream",
     "text": [
      "Pool size = 0\n"
     ]
    }
   ],
   "source": [
    "poolSize = ROOT.GetThreadPoolSize()\n",
    "print (\"Pool size =\",poolSize)"
   ]
  },
  {
   "cell_type": "code",
   "execution_count": 3,
   "id": "a9bd2494-9cfb-49a6-ae8b-f067b31dccaf",
   "metadata": {
    "tags": []
   },
   "outputs": [
    {
     "name": "stdout",
     "output_type": "stream",
     "text": [
      "CPU times: user 6.24 s, sys: 145 ms, total: 6.38 s\n",
      "Wall time: 7.8 s\n"
     ]
    },
    {
     "data": {
      "text/plain": [
       "<cppyy.gbl.ROOT.RDF.RResultPtr<ROOT::RDF::RInterface<ROOT::Detail::RDF::RLoopManager,void> > object at 0x55f141bf1400>"
      ]
     },
     "execution_count": 3,
     "metadata": {},
     "output_type": "execute_result"
    }
   ],
   "source": [
    "%%time\n",
    "dataframe = ROOT.RDataFrame(\"tree1\",\"experiment.root\")\n",
    "analyzed = dataframe.Filter(\"chi2 < 1.5\").Define(\"pt\",\"sqrt(px*px + py*py)\") \\\n",
    "    .Define(\"theta\",\"atan2(pt,pz)\").Filter(\"theta < 0.15\") \\\n",
    "    .Define(\"emeas\",\"sqrt(pt*pt + pz*pz)\").Define(\"eloss\",\"ebeam - emeas\")\n",
    "analyzed.Snapshot(\"analyzed\",\"analysis.root\")"
   ]
  }
 ],
 "metadata": {
  "kernelspec": {
   "display_name": "Python 3",
   "language": "python",
   "name": "python3"
  },
  "language_info": {
   "codemirror_mode": {
    "name": "ipython",
    "version": 3
   },
   "file_extension": ".py",
   "mimetype": "text/x-python",
   "name": "python",
   "nbconvert_exporter": "python",
   "pygments_lexer": "ipython3",
   "version": "3.9.16"
  }
 },
 "nbformat": 4,
 "nbformat_minor": 5
}
