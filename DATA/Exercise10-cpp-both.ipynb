{
 "cells": [
  {
   "cell_type": "code",
   "execution_count": 1,
   "id": "3c131c20-53ae-4ebf-866a-8adb5f5256cd",
   "metadata": {
    "tags": []
   },
   "outputs": [
    {
     "name": "stdout",
     "output_type": "stream",
     "text": [
      "Pool size = 0\n"
     ]
    }
   ],
   "source": [
    "auto poolSize = ROOT::GetThreadPoolSize();\n",
    "std::cout << \"Pool size = \" << poolSize << std::endl;"
   ]
  },
  {
   "cell_type": "code",
   "execution_count": null,
   "id": "18db1803-500c-41cd-a8df-3b3bd33f7cd8",
   "metadata": {
    "tags": []
   },
   "outputs": [],
   "source": [
    "%%time\n",
    "auto dataframe = ROOT::RDataFrame(\"tree1\",\"experiment.root\");\n",
    "auto analyzed = dataframe.Filter(\"chi2 < 1.5\").Define(\"pt\",\"sqrt(px*px + py*py)\")\n",
    "    .Define(\"theta\",\"atan2(pt,pz)\").Filter(\"theta < 0.15\")\n",
    "    .Define(\"emeas\",\"sqrt(pt*pt + pz*pz)\").Define(\"eloss\",\"ebeam - emeas\");\n",
    "analyzed.Snapshot(\"analyzed\",\"analysis.root\")"
   ]
  },
  {
   "cell_type": "code",
   "execution_count": null,
   "id": "839a7e9f-3156-45a9-a174-27505c6b98f8",
   "metadata": {},
   "outputs": [],
   "source": []
  }
 ],
 "metadata": {
  "kernelspec": {
   "display_name": "ROOT C++",
   "language": "c++",
   "name": "python3-jupyroot"
  },
  "language_info": {
   "codemirror_mode": "text/x-c++src",
   "file_extension": ".C",
   "mimetype": " text/x-c++src",
   "name": "c++"
  }
 },
 "nbformat": 4,
 "nbformat_minor": 5
}
