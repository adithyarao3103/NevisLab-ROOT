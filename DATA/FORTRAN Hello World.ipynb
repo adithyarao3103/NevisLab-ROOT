{
 "cells": [
  {
   "cell_type": "code",
   "execution_count": 1,
   "id": "41334e97-f2e7-4e45-b76d-0329b0270fb4",
   "metadata": {
    "tags": []
   },
   "outputs": [
    {
     "name": "stdout",
     "output_type": "stream",
     "text": [
      " Hello, World!\n"
     ]
    }
   ],
   "source": [
    "      ! This is a comment line; it is ignored by the compiler\n",
    "      print *, 'Hello, World!'\n",
    "      end program "
   ]
  },
  {
   "cell_type": "code",
   "execution_count": null,
   "id": "187f3710-a262-4255-9ee5-eb1a2b4398ea",
   "metadata": {},
   "outputs": [],
   "source": []
  }
 ],
 "metadata": {
  "kernelspec": {
   "display_name": "Fortran",
   "language": "fortran",
   "name": "fortran"
  },
  "language_info": {
   "file_extension": "f90",
   "mimetype": "text/plain",
   "name": "fortran"
  }
 },
 "nbformat": 4,
 "nbformat_minor": 5
}
