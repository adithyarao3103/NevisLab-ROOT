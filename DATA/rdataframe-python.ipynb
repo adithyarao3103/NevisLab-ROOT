{
 "cells": [
  {
   "cell_type": "code",
   "execution_count": 1,
   "id": "bb640fbb-c531-4a77-b3ce-4c5b123c9d10",
   "metadata": {},
   "outputs": [
    {
     "name": "stdout",
     "output_type": "stream",
     "text": [
      "Welcome to JupyROOT 6.28/02\n"
     ]
    }
   ],
   "source": [
    "import ROOT\n",
    "dataframe = ROOT.RDataFrame(\"tree1\",\"experiment.root\")"
   ]
  },
  {
   "cell_type": "code",
   "execution_count": 2,
   "id": "400e2209-44ba-4281-9e1d-77f9dd51e1cf",
   "metadata": {},
   "outputs": [
    {
     "data": {
      "text/plain": [
       "True"
      ]
     },
     "execution_count": 2,
     "metadata": {},
     "output_type": "execute_result"
    }
   ],
   "source": [
    "# Define a (long) text string containing a C++ function definition.\n",
    "eloss_func_def = '''\n",
    "// Define a number to compute the energy lost by the particle\n",
    "float eloss_func(float beamEnergy, float xmom, float ymom, float zmom) {\n",
    "    float Emeas = sqrt(xmom*xmom + ymom*ymom + zmom*zmom);\n",
    "    float Eloss = beamEnergy - Emeas;\n",
    "    return Eloss;\n",
    "}\n",
    "'''\n",
    "\n",
    "# Add the function to ROOT's C++ pool of interpreted code. \n",
    "ROOT.gInterpreter.Declare(eloss_func_def)"
   ]
  },
  {
   "cell_type": "code",
   "execution_count": 3,
   "id": "414dc5bb-71bd-41c8-a748-c11d02f30f9c",
   "metadata": {},
   "outputs": [
    {
     "data": {
      "text/plain": [
       "True"
      ]
     },
     "execution_count": 3,
     "metadata": {},
     "output_type": "execute_result"
    }
   ],
   "source": [
    "# Define a (long) text string containing a C++ function definition.\n",
    "pt_func_def = '''\n",
    "// Define a number to compute the energy lost by the particle\n",
    "float pt_func(float xmom, float ymom) {\n",
    "    float pt = sqrt(xmom*xmom + ymom+ymom);\n",
    "    return pt;\n",
    "}\n",
    "'''\n",
    "\n",
    "# Add the function to ROOT's C++ pool of interpreted code. \n",
    "ROOT.gInterpreter.Declare(pt_func_def)"
   ]
  },
  {
   "cell_type": "code",
   "execution_count": 4,
   "id": "fd9adf22-320c-4aee-933a-85591a003126",
   "metadata": {},
   "outputs": [],
   "source": [
    "eloss_df = dataframe.Define(\"eloss\",\"eloss_func(ebeam,px,py,pz)\");\n",
    "hist_df = eloss_df.Histo1D(\"eloss\")\n",
    "example = dataframe.Define(\"pt\",\"pt_func(px,py)\").Filter(\"pz < 145\");\n",
    "ex_count = example.Count()"
   ]
  },
  {
   "cell_type": "code",
   "execution_count": 5,
   "id": "cd0c65e5-31e4-43c3-ba66-d9c0ad755a14",
   "metadata": {},
   "outputs": [],
   "source": [
    "myCanvas = ROOT.TCanvas();\n"
   ]
  },
  {
   "cell_type": "code",
   "execution_count": 6,
   "id": "67fc8eb7-7635-431b-8a6b-204d653b86d8",
   "metadata": {},
   "outputs": [],
   "source": [
    "hist_df.Draw();\n"
   ]
  },
  {
   "cell_type": "code",
   "execution_count": null,
   "id": "610dfbaf-683d-434f-a6a8-ba536346e25f",
   "metadata": {
    "tags": []
   },
   "outputs": [],
   "source": [
    "myCanvas.Draw()\n",
    "print (\"Count = \",ex_count.GetValue())"
   ]
  },
  {
   "cell_type": "code",
   "execution_count": null,
   "id": "f1db3c24-33c5-46de-9491-d4bccad2b483",
   "metadata": {},
   "outputs": [],
   "source": [
    "ROOT.gInterpreter.Declare('''\n",
    "float tot_mom_func(float xmom, float ymom, float zmom) {\n",
    "    return sqrt(xmom*xmom + ymom*ymom + zmom*zmom);\n",
    "}\n",
    "''')"
   ]
  },
  {
   "cell_type": "code",
   "execution_count": null,
   "id": "dbe12483-0f75-4274-855a-41edabc1ed5c",
   "metadata": {},
   "outputs": [],
   "source": [
    "ROOT.tot_mom_func(3,4,5)"
   ]
  },
  {
   "cell_type": "code",
   "execution_count": null,
   "id": "b3fb87b6-1bb6-4692-a031-65ff8d1d4fa2",
   "metadata": {},
   "outputs": [],
   "source": [
    "# Had to install graphviz on all the cluster nodes to be able to display the .dot file.\n",
    "ROOT.ROOT.RDF.SaveGraph(dataframe, \"./dataframe.dot\");"
   ]
  },
  {
   "cell_type": "code",
   "execution_count": null,
   "id": "f683e980-f833-4aa6-8c5d-c7bf8d8fa6f8",
   "metadata": {},
   "outputs": [],
   "source": [
    "#dataframe.Describe()"
   ]
  },
  {
   "cell_type": "code",
   "execution_count": null,
   "id": "24480416-d3b2-4d3b-9e11-1962317ea9bc",
   "metadata": {
    "tags": []
   },
   "outputs": [],
   "source": [
    "dataframe.GetColumnNames()"
   ]
  },
  {
   "cell_type": "code",
   "execution_count": null,
   "id": "2575ffb5-7d5a-43e4-a58a-df0d3fa722b0",
   "metadata": {
    "tags": []
   },
   "outputs": [],
   "source": [
    "dataframe.Display().Print()"
   ]
  },
  {
   "cell_type": "code",
   "execution_count": null,
   "id": "ad354d68-4409-45ee-b0dc-6f89c6edab9f",
   "metadata": {
    "tags": []
   },
   "outputs": [],
   "source": [
    "@ROOT.Numba.Declare([\"float\"], \"bool\")\n",
    "def myFilter(px):\n",
    "    return px > 0\n",
    " \n",
    "sum = dataframe.Filter(\"Numba::myFilter(px)\").Sum(\"py\")\n",
    "print(sum.GetValue())\n"
   ]
  },
  {
   "cell_type": "code",
   "execution_count": null,
   "id": "43b007c3-9cba-4d81-bfb0-5e41a1dfca72",
   "metadata": {
    "tags": []
   },
   "outputs": [],
   "source": [
    "histdf = dataframe.Histo1D(\"px\")"
   ]
  },
  {
   "cell_type": "code",
   "execution_count": null,
   "id": "ea8b43eb-96d6-4eed-a56d-063f76e882ac",
   "metadata": {
    "tags": []
   },
   "outputs": [],
   "source": [
    "myFilter(-1)"
   ]
  },
  {
   "cell_type": "code",
   "execution_count": null,
   "id": "82aef5b6-c0f0-4a34-adee-d864da4bb964",
   "metadata": {
    "tags": []
   },
   "outputs": [],
   "source": [
    "canvas = ROOT.TCanvas()\n",
    "histdf.Draw()\n",
    "canvas.Draw()"
   ]
  },
  {
   "cell_type": "code",
   "execution_count": null,
   "id": "9cf8ba4c-2a2f-4f40-a3f1-d761782d82f5",
   "metadata": {
    "tags": []
   },
   "outputs": [],
   "source": [
    "histdf"
   ]
  },
  {
   "cell_type": "code",
   "execution_count": null,
   "id": "0217aa44-b603-482c-8ffa-44fa98758563",
   "metadata": {
    "tags": []
   },
   "outputs": [],
   "source": [
    "histdf.Fit(\"gaus\");\n",
    "histdf.Draw(\"e\");\n",
    "canvas.Draw();"
   ]
  },
  {
   "cell_type": "code",
   "execution_count": null,
   "id": "6aebed1c-da92-4a6f-afff-b796abf97eb4",
   "metadata": {
    "tags": []
   },
   "outputs": [],
   "source": [
    "hist2df = dataframe.Histo2D((\"histName\", \"histTitle\", 100, 149, 151, 100, -20, 20),\"ebeam\",\"px\")"
   ]
  },
  {
   "cell_type": "code",
   "execution_count": null,
   "id": "e34aeca0-05f6-4043-a4e1-2d9c8f95dd9a",
   "metadata": {
    "tags": []
   },
   "outputs": [],
   "source": [
    "hist2df.Draw();\n",
    "canvas.Draw();"
   ]
  },
  {
   "cell_type": "code",
   "execution_count": null,
   "id": "2476e2d1-82bb-4935-8299-e45b543dee81",
   "metadata": {
    "tags": []
   },
   "outputs": [],
   "source": [
    "hist1dim =\tdataframe.Histo1D((\"hist1dim\", \"ebeam\", 100, 149, 151),\"ebeam\")"
   ]
  },
  {
   "cell_type": "code",
   "execution_count": null,
   "id": "ee354d5a-a41d-4cd0-b86b-fb054fd169a1",
   "metadata": {
    "tags": []
   },
   "outputs": [],
   "source": [
    "hist1dim.Draw()"
   ]
  },
  {
   "cell_type": "code",
   "execution_count": null,
   "id": "3f1f9118-782d-4c78-bb6d-a0f8fa8fa612",
   "metadata": {
    "tags": []
   },
   "outputs": [],
   "source": [
    "canvas.Draw()"
   ]
  },
  {
   "cell_type": "code",
   "execution_count": null,
   "id": "a96e4186-7c5e-4dcd-b93f-653cd62d763a",
   "metadata": {
    "tags": []
   },
   "outputs": [],
   "source": [
    "canvas.SaveSource(\"ebeam.C\")"
   ]
  },
  {
   "cell_type": "code",
   "execution_count": null,
   "id": "5d804db7-70c8-4eaf-b852-1bd40c37de6f",
   "metadata": {
    "tags": []
   },
   "outputs": [],
   "source": [
    "histchi = dataframe.Histo1D(\"ebeam\")\n",
    "histchi.Draw(\"e\")\n",
    "canvas.Draw()"
   ]
  },
  {
   "cell_type": "code",
   "execution_count": null,
   "id": "4c48a80f-a354-4ed5-bfe4-a7396a981cb5",
   "metadata": {
    "tags": []
   },
   "outputs": [],
   "source": [
    "names = dataframe.GetColumnNames()\n",
    "length = len(names)\n",
    "histograms = []\n",
    "canvases = []\n",
    "for i in range(length):\n",
    "    histograms.append ( dataframe.Histo1D(names[i]) )\n",
    "for i in range(length):\n",
    "    canvases.append(ROOT.TCanvas())\n",
    "    histograms[i].Draw()\n",
    "    canvases[i].Draw()"
   ]
  },
  {
   "cell_type": "code",
   "execution_count": null,
   "id": "9afdd5df-4fc9-4e2a-bf75-2b43a2c1e9dc",
   "metadata": {
    "tags": []
   },
   "outputs": [],
   "source": [
    "len(names)"
   ]
  },
  {
   "cell_type": "code",
   "execution_count": null,
   "id": "e44c40db-a1e2-42be-bfa4-6656871892fa",
   "metadata": {},
   "outputs": [],
   "source": [
    "definept = dataframe.Define(\"pt\",\"TMath::Sqrt(TMath::Power(px,2) + TMath::Power(py,2))\")"
   ]
  },
  {
   "cell_type": "code",
   "execution_count": null,
   "id": "aff46b99-1046-4842-82e6-82e3dd48e83e",
   "metadata": {
    "tags": []
   },
   "outputs": [],
   "source": [
    "import math\n",
    "a = 3\n",
    "b = 4\n",
    "c = math.sqrt(a**2 + b**2)\n",
    "print (c)"
   ]
  },
  {
   "cell_type": "code",
   "execution_count": null,
   "id": "b901be8b-9903-4ec9-8ef2-fdc7e923de20",
   "metadata": {
    "tags": []
   },
   "outputs": [],
   "source": [
    "filtertest = definept.Filter(\"pt == 150\")"
   ]
  },
  {
   "cell_type": "code",
   "execution_count": null,
   "id": "1903a1da-8538-40ee-87df-d84698a5cae3",
   "metadata": {
    "tags": []
   },
   "outputs": [],
   "source": [
    "pzcut = dataframe.Filter(\"pz < 145\")\n",
    "pzcount = pzcut.Count()\n",
    "print(\"The number of events with pz < 145 is\",pzcount.GetValue())\n"
   ]
  },
  {
   "cell_type": "code",
   "execution_count": null,
   "id": "df8cb9ef-76db-4169-b455-49cc45e52cdf",
   "metadata": {
    "tags": []
   },
   "outputs": [],
   "source": [
    "defineptot = dataframe.Define(\"pt\",\"TMath::Sqrt(TMath::Power(px,2) + TMath::Power(py,2)+ TMath::Power(pz,2))\")\n",
    "ptothist = defineptot.Histo1D(\"pt\")\n",
    "ptotcut = defineptot.Filter(\"pz < 145\")\n",
    "ptotcuthist = ptotcut.Histo1D(\"pt\")"
   ]
  },
  {
   "cell_type": "code",
   "execution_count": null,
   "id": "b6b571e9-fa74-487d-b210-80ad3a8b70b7",
   "metadata": {
    "tags": []
   },
   "outputs": [],
   "source": [
    "canvastot = ROOT.TCanvas()\n",
    "ptothist.Draw(\"e\")\n",
    "canvastot.Draw()\n",
    "canvascut = ROOT.TCanvas()\n",
    "ptotcuthist.Draw(\"e\")\n",
    "canvascut.Draw()"
   ]
  },
  {
   "cell_type": "code",
   "execution_count": null,
   "id": "5654002c-542d-43cf-b3c7-89c8cf3e69a9",
   "metadata": {},
   "outputs": [],
   "source": [
    "ROOT.ROOT.RDF.SaveGraph(dataframe, \"./dataframe.dot\");"
   ]
  },
  {
   "cell_type": "code",
   "execution_count": null,
   "id": "00196daf-99b0-44dc-b27d-4f0c4329dd8c",
   "metadata": {
    "tags": []
   },
   "outputs": [],
   "source": [
    "names = dataframe.GetColumnNames()\n",
    "length = len(names)\n",
    "for i in range(length):\n",
    "    hist = dataframe.Histo1D( names[i] )\n",
    "    canvas = ROOT.TCanvas()\n",
    "    hist.Draw()\n",
    "    canvas.Draw()\n"
   ]
  },
  {
   "cell_type": "code",
   "execution_count": null,
   "id": "6f11bf04-29fd-4c3c-be1c-cd6f6cebd30b",
   "metadata": {},
   "outputs": [],
   "source": [
    "names"
   ]
  },
  {
   "cell_type": "code",
   "execution_count": null,
   "id": "65927d7a-fb0d-4189-b397-059619c0ce4e",
   "metadata": {},
   "outputs": [],
   "source": []
  }
 ],
 "metadata": {
  "kernelspec": {
   "display_name": "Python 3",
   "language": "python",
   "name": "python3"
  },
  "language_info": {
   "codemirror_mode": {
    "name": "ipython",
    "version": 3
   },
   "file_extension": ".py",
   "mimetype": "text/x-python",
   "name": "python",
   "nbconvert_exporter": "python",
   "pygments_lexer": "ipython3",
   "version": "3.9.16"
  }
 },
 "nbformat": 4,
 "nbformat_minor": 5
}
