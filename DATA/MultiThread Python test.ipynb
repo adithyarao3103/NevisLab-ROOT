{
 "cells": [
  {
   "cell_type": "code",
   "execution_count": 1,
   "id": "dc73e003-f81d-4084-986e-5e6c092de0eb",
   "metadata": {
    "tags": []
   },
   "outputs": [
    {
     "name": "stdout",
     "output_type": "stream",
     "text": [
      "Welcome to JupyROOT 6.26/10\n"
     ]
    }
   ],
   "source": [
    "import ROOT"
   ]
  },
  {
   "cell_type": "code",
   "execution_count": 2,
   "id": "270bb715-0940-4099-9628-d46891e8c9ec",
   "metadata": {},
   "outputs": [
    {
     "name": "stdout",
     "output_type": "stream",
     "text": [
      "Pool size = 10\n"
     ]
    }
   ],
   "source": [
    "ROOT.ROOT.EnableImplicitMT()\n",
    "poolSize = ROOT.GetThreadPoolSize()\n",
    "print (\"Pool size =\",poolSize)\n",
    "\n",
    "#chain = ROOT.TChain(\"tree1\")\n",
    "#for i in range(1000):\n",
    "#    chain.Add(\"experiment.root\")\n",
    "canvas = ROOT.TCanvas()"
   ]
  },
  {
   "cell_type": "code",
   "execution_count": 3,
   "id": "bd6032af-8b60-42c6-81ac-0f4b9d5a861d",
   "metadata": {
    "tags": []
   },
   "outputs": [
    {
     "name": "stdout",
     "output_type": "stream",
     "text": [
      "CPU times: user 19.8 s, sys: 286 ms, total: 20.1 s\n",
      "Wall time: 4.92 s\n"
     ]
    }
   ],
   "source": [
    "%%time\n",
    "#dataframe = ROOT.RDataFrame(chain)\n",
    "dataframe = ROOT.RDataFrame(\"tree1\",\"bigexperiment.root\")\n",
    "pzcut = dataframe.Filter(\"pz < 145\").Histo1D(\"pz\")\n",
    "pzcut.Draw()"
   ]
  },
  {
   "cell_type": "code",
   "execution_count": 4,
   "id": "a2a49922-fd37-46a5-b604-f66abc7422b8",
   "metadata": {},
   "outputs": [
    {
     "data": {
      "image/png": "[encoded data removed]",
      "text/plain": [
       "<IPython.core.display.Image object>"
      ]
     },
     "metadata": {},
     "output_type": "display_data"
    }
   ],
   "source": [
    "canvas.Draw()"
   ]
  },
  {
   "cell_type": "code",
   "execution_count": null,
   "id": "53fd4cc0-b137-4ccb-b381-11b96442a322",
   "metadata": {},
   "outputs": [],
   "source": []
  }
 ],
 "metadata": {
  "kernelspec": {
   "display_name": "Python 3 (ipykernel)",
   "language": "python",
   "name": "python3"
  },
  "language_info": {
   "codemirror_mode": {
    "name": "ipython",
    "version": 3
   },
   "file_extension": ".py",
   "mimetype": "text/x-python",
   "name": "python",
   "nbconvert_exporter": "python",
   "pygments_lexer": "ipython3",
   "version": "3.9.14"
  }
 },
 "nbformat": 4,
 "nbformat_minor": 5
}
